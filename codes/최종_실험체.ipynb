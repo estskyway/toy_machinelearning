{
 "cells": [
  {
   "cell_type": "markdown",
   "id": "a33e28d7-b467-4203-a761-e2d43f5c4831",
   "metadata": {},
   "source": [
    "### Quset\n",
    "- dataset desc : RecurrenceOfSurgery.md\n",
    "- toy_machinlearing (git)\n",
    "- refer : 전처리, 모델학습\n",
    "- 업무분장(전처리, 모델학습).\n",
    "- RecurrenceOfSurgery.csv 사용\n",
    "- 목표변수 : 범주형, 설명변수 : 최소 6개 \n",
    "- 서비스 대상과 목표 설명, 변수 선택 이유"
   ]
  },
  {
   "cell_type": "code",
   "execution_count": 1,
   "id": "7e1efcf8-dfcb-45d7-bb6e-9a8a0584a1f2",
   "metadata": {
    "tags": []
   },
   "outputs": [],
   "source": [
    "import numpy as np\n",
    "import pandas as pd\n",
    "from sklearn.linear_model import LinearRegression\n",
    "from sklearn.model_selection import train_test_split"
   ]
  },
  {
   "cell_type": "code",
   "execution_count": 2,
   "id": "3dc92986-0b73-42d8-b41b-5dc9990a6f45",
   "metadata": {
    "tags": []
   },
   "outputs": [
    {
     "data": {
      "text/html": [
       "<div>\n",
       "<style scoped>\n",
       "    .dataframe tbody tr th:only-of-type {\n",
       "        vertical-align: middle;\n",
       "    }\n",
       "\n",
       "    .dataframe tbody tr th {\n",
       "        vertical-align: top;\n",
       "    }\n",
       "\n",
       "    .dataframe thead th {\n",
       "        text-align: right;\n",
       "    }\n",
       "</style>\n",
       "<table border=\"1\" class=\"dataframe\">\n",
       "  <thead>\n",
       "    <tr style=\"text-align: right;\">\n",
       "      <th></th>\n",
       "      <th>Unnamed: 0</th>\n",
       "      <th>환자ID</th>\n",
       "      <th>Large Lymphocyte</th>\n",
       "      <th>Location of herniation</th>\n",
       "      <th>ODI</th>\n",
       "      <th>가족력</th>\n",
       "      <th>간질성폐질환</th>\n",
       "      <th>고혈압여부</th>\n",
       "      <th>과거수술횟수</th>\n",
       "      <th>당뇨여부</th>\n",
       "      <th>...</th>\n",
       "      <th>Modic change</th>\n",
       "      <th>PI</th>\n",
       "      <th>PT</th>\n",
       "      <th>Seg Angle(raw)</th>\n",
       "      <th>Vaccum disc</th>\n",
       "      <th>골밀도</th>\n",
       "      <th>디스크단면적</th>\n",
       "      <th>디스크위치</th>\n",
       "      <th>척추이동척도</th>\n",
       "      <th>척추전방위증</th>\n",
       "    </tr>\n",
       "  </thead>\n",
       "  <tbody>\n",
       "    <tr>\n",
       "      <th>0</th>\n",
       "      <td>0</td>\n",
       "      <td>1PT</td>\n",
       "      <td>22.8</td>\n",
       "      <td>3</td>\n",
       "      <td>51.0</td>\n",
       "      <td>0.0</td>\n",
       "      <td>0</td>\n",
       "      <td>0</td>\n",
       "      <td>0</td>\n",
       "      <td>0</td>\n",
       "      <td>...</td>\n",
       "      <td>3</td>\n",
       "      <td>51.6</td>\n",
       "      <td>36.6</td>\n",
       "      <td>14.4</td>\n",
       "      <td>0</td>\n",
       "      <td>-1.01</td>\n",
       "      <td>2048.50</td>\n",
       "      <td>4</td>\n",
       "      <td>Down</td>\n",
       "      <td>0</td>\n",
       "    </tr>\n",
       "    <tr>\n",
       "      <th>1</th>\n",
       "      <td>1</td>\n",
       "      <td>2PT</td>\n",
       "      <td>44.9</td>\n",
       "      <td>4</td>\n",
       "      <td>26.0</td>\n",
       "      <td>0.0</td>\n",
       "      <td>0</td>\n",
       "      <td>0</td>\n",
       "      <td>0</td>\n",
       "      <td>0</td>\n",
       "      <td>...</td>\n",
       "      <td>0</td>\n",
       "      <td>40.8</td>\n",
       "      <td>7.2</td>\n",
       "      <td>17.8</td>\n",
       "      <td>0</td>\n",
       "      <td>-1.14</td>\n",
       "      <td>1753.10</td>\n",
       "      <td>4</td>\n",
       "      <td>Up</td>\n",
       "      <td>0</td>\n",
       "    </tr>\n",
       "    <tr>\n",
       "      <th>2</th>\n",
       "      <td>2</td>\n",
       "      <td>3PT</td>\n",
       "      <td>53.0</td>\n",
       "      <td>3</td>\n",
       "      <td>NaN</td>\n",
       "      <td>0.0</td>\n",
       "      <td>0</td>\n",
       "      <td>0</td>\n",
       "      <td>1</td>\n",
       "      <td>0</td>\n",
       "      <td>...</td>\n",
       "      <td>0</td>\n",
       "      <td>67.5</td>\n",
       "      <td>27.3</td>\n",
       "      <td>10.2</td>\n",
       "      <td>0</td>\n",
       "      <td>-1.77</td>\n",
       "      <td>1749.00</td>\n",
       "      <td>4</td>\n",
       "      <td>Down</td>\n",
       "      <td>0</td>\n",
       "    </tr>\n",
       "    <tr>\n",
       "      <th>3</th>\n",
       "      <td>3</td>\n",
       "      <td>4PT</td>\n",
       "      <td>54.7</td>\n",
       "      <td>4</td>\n",
       "      <td>18.0</td>\n",
       "      <td>0.0</td>\n",
       "      <td>0</td>\n",
       "      <td>1</td>\n",
       "      <td>0</td>\n",
       "      <td>0</td>\n",
       "      <td>...</td>\n",
       "      <td>0</td>\n",
       "      <td>49.2</td>\n",
       "      <td>18.7</td>\n",
       "      <td>19.9</td>\n",
       "      <td>0</td>\n",
       "      <td>-1.58</td>\n",
       "      <td>1796.20</td>\n",
       "      <td>4</td>\n",
       "      <td>Down</td>\n",
       "      <td>0</td>\n",
       "    </tr>\n",
       "    <tr>\n",
       "      <th>4</th>\n",
       "      <td>4</td>\n",
       "      <td>5PT</td>\n",
       "      <td>53.8</td>\n",
       "      <td>4</td>\n",
       "      <td>NaN</td>\n",
       "      <td>0.0</td>\n",
       "      <td>0</td>\n",
       "      <td>1</td>\n",
       "      <td>0</td>\n",
       "      <td>0</td>\n",
       "      <td>...</td>\n",
       "      <td>0</td>\n",
       "      <td>58.8</td>\n",
       "      <td>14.7</td>\n",
       "      <td>5.2</td>\n",
       "      <td>0</td>\n",
       "      <td>-0.79</td>\n",
       "      <td>2021.48</td>\n",
       "      <td>4</td>\n",
       "      <td>Up</td>\n",
       "      <td>0</td>\n",
       "    </tr>\n",
       "    <tr>\n",
       "      <th>...</th>\n",
       "      <td>...</td>\n",
       "      <td>...</td>\n",
       "      <td>...</td>\n",
       "      <td>...</td>\n",
       "      <td>...</td>\n",
       "      <td>...</td>\n",
       "      <td>...</td>\n",
       "      <td>...</td>\n",
       "      <td>...</td>\n",
       "      <td>...</td>\n",
       "      <td>...</td>\n",
       "      <td>...</td>\n",
       "      <td>...</td>\n",
       "      <td>...</td>\n",
       "      <td>...</td>\n",
       "      <td>...</td>\n",
       "      <td>...</td>\n",
       "      <td>...</td>\n",
       "      <td>...</td>\n",
       "      <td>...</td>\n",
       "      <td>...</td>\n",
       "    </tr>\n",
       "    <tr>\n",
       "      <th>1889</th>\n",
       "      <td>1889</td>\n",
       "      <td>1890PT</td>\n",
       "      <td>44.0</td>\n",
       "      <td>1</td>\n",
       "      <td>NaN</td>\n",
       "      <td>0.0</td>\n",
       "      <td>0</td>\n",
       "      <td>0</td>\n",
       "      <td>0</td>\n",
       "      <td>0</td>\n",
       "      <td>...</td>\n",
       "      <td>2</td>\n",
       "      <td>59.5</td>\n",
       "      <td>23.0</td>\n",
       "      <td>21.8</td>\n",
       "      <td>0</td>\n",
       "      <td>NaN</td>\n",
       "      <td>2652.20</td>\n",
       "      <td>5</td>\n",
       "      <td>Middle</td>\n",
       "      <td>0</td>\n",
       "    </tr>\n",
       "    <tr>\n",
       "      <th>1890</th>\n",
       "      <td>1890</td>\n",
       "      <td>1891PT</td>\n",
       "      <td>30.8</td>\n",
       "      <td>2</td>\n",
       "      <td>NaN</td>\n",
       "      <td>0.0</td>\n",
       "      <td>0</td>\n",
       "      <td>0</td>\n",
       "      <td>0</td>\n",
       "      <td>0</td>\n",
       "      <td>...</td>\n",
       "      <td>0</td>\n",
       "      <td>47.7</td>\n",
       "      <td>20.2</td>\n",
       "      <td>5.0</td>\n",
       "      <td>0</td>\n",
       "      <td>NaN</td>\n",
       "      <td>1795.80</td>\n",
       "      <td>4</td>\n",
       "      <td>Down</td>\n",
       "      <td>0</td>\n",
       "    </tr>\n",
       "    <tr>\n",
       "      <th>1891</th>\n",
       "      <td>1891</td>\n",
       "      <td>1892PT</td>\n",
       "      <td>36.7</td>\n",
       "      <td>3</td>\n",
       "      <td>NaN</td>\n",
       "      <td>0.0</td>\n",
       "      <td>0</td>\n",
       "      <td>0</td>\n",
       "      <td>0</td>\n",
       "      <td>0</td>\n",
       "      <td>...</td>\n",
       "      <td>0</td>\n",
       "      <td>44.6</td>\n",
       "      <td>15.0</td>\n",
       "      <td>17.4</td>\n",
       "      <td>1</td>\n",
       "      <td>NaN</td>\n",
       "      <td>2624.40</td>\n",
       "      <td>4</td>\n",
       "      <td>Down</td>\n",
       "      <td>0</td>\n",
       "    </tr>\n",
       "    <tr>\n",
       "      <th>1892</th>\n",
       "      <td>1892</td>\n",
       "      <td>1893PT</td>\n",
       "      <td>32.5</td>\n",
       "      <td>2</td>\n",
       "      <td>NaN</td>\n",
       "      <td>0.0</td>\n",
       "      <td>0</td>\n",
       "      <td>0</td>\n",
       "      <td>0</td>\n",
       "      <td>0</td>\n",
       "      <td>...</td>\n",
       "      <td>2</td>\n",
       "      <td>32.2</td>\n",
       "      <td>11.1</td>\n",
       "      <td>17.7</td>\n",
       "      <td>0</td>\n",
       "      <td>NaN</td>\n",
       "      <td>1972.50</td>\n",
       "      <td>5</td>\n",
       "      <td>Down</td>\n",
       "      <td>0</td>\n",
       "    </tr>\n",
       "    <tr>\n",
       "      <th>1893</th>\n",
       "      <td>1893</td>\n",
       "      <td>1894PT</td>\n",
       "      <td>49.5</td>\n",
       "      <td>2</td>\n",
       "      <td>NaN</td>\n",
       "      <td>0.0</td>\n",
       "      <td>0</td>\n",
       "      <td>0</td>\n",
       "      <td>0</td>\n",
       "      <td>0</td>\n",
       "      <td>...</td>\n",
       "      <td>0</td>\n",
       "      <td>38.9</td>\n",
       "      <td>6.8</td>\n",
       "      <td>27.8</td>\n",
       "      <td>0</td>\n",
       "      <td>NaN</td>\n",
       "      <td>1574.40</td>\n",
       "      <td>5</td>\n",
       "      <td>Middle</td>\n",
       "      <td>0</td>\n",
       "    </tr>\n",
       "  </tbody>\n",
       "</table>\n",
       "<p>1894 rows × 52 columns</p>\n",
       "</div>"
      ],
      "text/plain": [
       "      Unnamed: 0    환자ID  Large Lymphocyte  Location of herniation   ODI  가족력  \\\n",
       "0              0     1PT              22.8                       3  51.0  0.0   \n",
       "1              1     2PT              44.9                       4  26.0  0.0   \n",
       "2              2     3PT              53.0                       3   NaN  0.0   \n",
       "3              3     4PT              54.7                       4  18.0  0.0   \n",
       "4              4     5PT              53.8                       4   NaN  0.0   \n",
       "...          ...     ...               ...                     ...   ...  ...   \n",
       "1889        1889  1890PT              44.0                       1   NaN  0.0   \n",
       "1890        1890  1891PT              30.8                       2   NaN  0.0   \n",
       "1891        1891  1892PT              36.7                       3   NaN  0.0   \n",
       "1892        1892  1893PT              32.5                       2   NaN  0.0   \n",
       "1893        1893  1894PT              49.5                       2   NaN  0.0   \n",
       "\n",
       "      간질성폐질환  고혈압여부  과거수술횟수  당뇨여부  ...  Modic change    PI    PT  \\\n",
       "0          0      0       0     0  ...             3  51.6  36.6   \n",
       "1          0      0       0     0  ...             0  40.8   7.2   \n",
       "2          0      0       1     0  ...             0  67.5  27.3   \n",
       "3          0      1       0     0  ...             0  49.2  18.7   \n",
       "4          0      1       0     0  ...             0  58.8  14.7   \n",
       "...      ...    ...     ...   ...  ...           ...   ...   ...   \n",
       "1889       0      0       0     0  ...             2  59.5  23.0   \n",
       "1890       0      0       0     0  ...             0  47.7  20.2   \n",
       "1891       0      0       0     0  ...             0  44.6  15.0   \n",
       "1892       0      0       0     0  ...             2  32.2  11.1   \n",
       "1893       0      0       0     0  ...             0  38.9   6.8   \n",
       "\n",
       "      Seg Angle(raw)  Vaccum disc   골밀도   디스크단면적  디스크위치  척추이동척도  척추전방위증  \n",
       "0               14.4            0 -1.01  2048.50      4    Down       0  \n",
       "1               17.8            0 -1.14  1753.10      4      Up       0  \n",
       "2               10.2            0 -1.77  1749.00      4    Down       0  \n",
       "3               19.9            0 -1.58  1796.20      4    Down       0  \n",
       "4                5.2            0 -0.79  2021.48      4      Up       0  \n",
       "...              ...          ...   ...      ...    ...     ...     ...  \n",
       "1889            21.8            0   NaN  2652.20      5  Middle       0  \n",
       "1890             5.0            0   NaN  1795.80      4    Down       0  \n",
       "1891            17.4            1   NaN  2624.40      4    Down       0  \n",
       "1892            17.7            0   NaN  1972.50      5    Down       0  \n",
       "1893            27.8            0   NaN  1574.40      5  Middle       0  \n",
       "\n",
       "[1894 rows x 52 columns]"
      ]
     },
     "execution_count": 2,
     "metadata": {},
     "output_type": "execute_result"
    }
   ],
   "source": [
    "df_ROS = pd.read_csv('../datasets/RecurrenceOfSurgery.csv')\n",
    "df_ROS"
   ]
  },
  {
   "cell_type": "code",
   "execution_count": 3,
   "id": "96e5a24d-5c06-4cf8-ac65-cd49fce28745",
   "metadata": {
    "tags": []
   },
   "outputs": [
    {
     "data": {
      "text/plain": [
       "통증기간(월)    4\n",
       "헤모글로빈수치    1\n",
       "스테로이드치료    0\n",
       "연령         0\n",
       "흡연여부       0\n",
       "입원기간       0\n",
       "고혈압여부      0\n",
       "dtype: int64"
      ]
     },
     "execution_count": 3,
     "metadata": {},
     "output_type": "execute_result"
    }
   ],
   "source": [
    "df_ROS[['통증기간(월)', '헤모글로빈수치','스테로이드치료', '연령', '흡연여부', '입원기간', '고혈압여부']].isnull().sum()"
   ]
  },
  {
   "cell_type": "code",
   "execution_count": 4,
   "id": "d62ab496-ec92-4286-92a3-91424df3d1f3",
   "metadata": {
    "tags": []
   },
   "outputs": [],
   "source": [
    "# df_ROS에서 누락된 값을 예측하려는 열과 다른 열을 추출\n",
    "columns_to_predict = ['통증기간(월)', '헤모글로빈수치']  # 예측하려는 열\n",
    "other_columns = ['스테로이드치료', '연령', '흡연여부', '입원기간', '고혈압여부']  # 다른 열"
   ]
  },
  {
   "cell_type": "code",
   "execution_count": 5,
   "id": "643b5ad0-b287-4df0-a469-4ea4d6abf87f",
   "metadata": {
    "tags": []
   },
   "outputs": [],
   "source": [
    "# 누락된 값을 예측하기 위한 학습 데이터와 테스트 데이터로 나누기\n",
    "X_train = df_ROS[other_columns][df_ROS['통증기간(월)'].notnull()]\n",
    "y_train = df_ROS['통증기간(월)'][df_ROS['통증기간(월)'].notnull()]\n",
    "X_test = df_ROS[other_columns][df_ROS['통증기간(월)'].isnull()]\n"
   ]
  },
  {
   "cell_type": "code",
   "execution_count": 6,
   "id": "a608910b-2ed7-4ebe-9628-2e4c018dd034",
   "metadata": {
    "tags": []
   },
   "outputs": [
    {
     "data": {
      "text/html": [
       "<style>#sk-container-id-1 {color: black;background-color: white;}#sk-container-id-1 pre{padding: 0;}#sk-container-id-1 div.sk-toggleable {background-color: white;}#sk-container-id-1 label.sk-toggleable__label {cursor: pointer;display: block;width: 100%;margin-bottom: 0;padding: 0.3em;box-sizing: border-box;text-align: center;}#sk-container-id-1 label.sk-toggleable__label-arrow:before {content: \"▸\";float: left;margin-right: 0.25em;color: #696969;}#sk-container-id-1 label.sk-toggleable__label-arrow:hover:before {color: black;}#sk-container-id-1 div.sk-estimator:hover label.sk-toggleable__label-arrow:before {color: black;}#sk-container-id-1 div.sk-toggleable__content {max-height: 0;max-width: 0;overflow: hidden;text-align: left;background-color: #f0f8ff;}#sk-container-id-1 div.sk-toggleable__content pre {margin: 0.2em;color: black;border-radius: 0.25em;background-color: #f0f8ff;}#sk-container-id-1 input.sk-toggleable__control:checked~div.sk-toggleable__content {max-height: 200px;max-width: 100%;overflow: auto;}#sk-container-id-1 input.sk-toggleable__control:checked~label.sk-toggleable__label-arrow:before {content: \"▾\";}#sk-container-id-1 div.sk-estimator input.sk-toggleable__control:checked~label.sk-toggleable__label {background-color: #d4ebff;}#sk-container-id-1 div.sk-label input.sk-toggleable__control:checked~label.sk-toggleable__label {background-color: #d4ebff;}#sk-container-id-1 input.sk-hidden--visually {border: 0;clip: rect(1px 1px 1px 1px);clip: rect(1px, 1px, 1px, 1px);height: 1px;margin: -1px;overflow: hidden;padding: 0;position: absolute;width: 1px;}#sk-container-id-1 div.sk-estimator {font-family: monospace;background-color: #f0f8ff;border: 1px dotted black;border-radius: 0.25em;box-sizing: border-box;margin-bottom: 0.5em;}#sk-container-id-1 div.sk-estimator:hover {background-color: #d4ebff;}#sk-container-id-1 div.sk-parallel-item::after {content: \"\";width: 100%;border-bottom: 1px solid gray;flex-grow: 1;}#sk-container-id-1 div.sk-label:hover label.sk-toggleable__label {background-color: #d4ebff;}#sk-container-id-1 div.sk-serial::before {content: \"\";position: absolute;border-left: 1px solid gray;box-sizing: border-box;top: 0;bottom: 0;left: 50%;z-index: 0;}#sk-container-id-1 div.sk-serial {display: flex;flex-direction: column;align-items: center;background-color: white;padding-right: 0.2em;padding-left: 0.2em;position: relative;}#sk-container-id-1 div.sk-item {position: relative;z-index: 1;}#sk-container-id-1 div.sk-parallel {display: flex;align-items: stretch;justify-content: center;background-color: white;position: relative;}#sk-container-id-1 div.sk-item::before, #sk-container-id-1 div.sk-parallel-item::before {content: \"\";position: absolute;border-left: 1px solid gray;box-sizing: border-box;top: 0;bottom: 0;left: 50%;z-index: -1;}#sk-container-id-1 div.sk-parallel-item {display: flex;flex-direction: column;z-index: 1;position: relative;background-color: white;}#sk-container-id-1 div.sk-parallel-item:first-child::after {align-self: flex-end;width: 50%;}#sk-container-id-1 div.sk-parallel-item:last-child::after {align-self: flex-start;width: 50%;}#sk-container-id-1 div.sk-parallel-item:only-child::after {width: 0;}#sk-container-id-1 div.sk-dashed-wrapped {border: 1px dashed gray;margin: 0 0.4em 0.5em 0.4em;box-sizing: border-box;padding-bottom: 0.4em;background-color: white;}#sk-container-id-1 div.sk-label label {font-family: monospace;font-weight: bold;display: inline-block;line-height: 1.2em;}#sk-container-id-1 div.sk-label-container {text-align: center;}#sk-container-id-1 div.sk-container {/* jupyter's `normalize.less` sets `[hidden] { display: none; }` but bootstrap.min.css set `[hidden] { display: none !important; }` so we also need the `!important` here to be able to override the default hidden behavior on the sphinx rendered scikit-learn.org. See: https://github.com/scikit-learn/scikit-learn/issues/21755 */display: inline-block !important;position: relative;}#sk-container-id-1 div.sk-text-repr-fallback {display: none;}</style><div id=\"sk-container-id-1\" class=\"sk-top-container\"><div class=\"sk-text-repr-fallback\"><pre>LinearRegression()</pre><b>In a Jupyter environment, please rerun this cell to show the HTML representation or trust the notebook. <br />On GitHub, the HTML representation is unable to render, please try loading this page with nbviewer.org.</b></div><div class=\"sk-container\" hidden><div class=\"sk-item\"><div class=\"sk-estimator sk-toggleable\"><input class=\"sk-toggleable__control sk-hidden--visually\" id=\"sk-estimator-id-1\" type=\"checkbox\" checked><label for=\"sk-estimator-id-1\" class=\"sk-toggleable__label sk-toggleable__label-arrow\">LinearRegression</label><div class=\"sk-toggleable__content\"><pre>LinearRegression()</pre></div></div></div></div></div>"
      ],
      "text/plain": [
       "LinearRegression()"
      ]
     },
     "execution_count": 6,
     "metadata": {},
     "output_type": "execute_result"
    }
   ],
   "source": [
    "# 선형 회귀 모델 생성\n",
    "model = LinearRegression()\n",
    "\n",
    "# 모델 학습\n",
    "model.fit(X_train, y_train)\n"
   ]
  },
  {
   "cell_type": "code",
   "execution_count": 7,
   "id": "a8804381-61df-47aa-bacd-f03380670f20",
   "metadata": {
    "tags": []
   },
   "outputs": [],
   "source": [
    "# 누락된 값을 예측하여 채우기\n",
    "predicted_missing_values = model.predict(X_test)\n",
    "\n",
    "# 예측된 값을 데이터프레임에 채워 넣기\n",
    "df_ROS.loc[df_ROS['통증기간(월)'].isnull(), '통증기간(월)'] = predicted_missing_values"
   ]
  },
  {
   "cell_type": "code",
   "execution_count": 8,
   "id": "5abb72fa-cbb6-467b-949c-1afc743e5b67",
   "metadata": {
    "tags": []
   },
   "outputs": [
    {
     "data": {
      "text/plain": [
       "통증기간(월)    0\n",
       "헤모글로빈수치    1\n",
       "스테로이드치료    0\n",
       "연령         0\n",
       "흡연여부       0\n",
       "입원기간       0\n",
       "고혈압여부      0\n",
       "dtype: int64"
      ]
     },
     "execution_count": 8,
     "metadata": {},
     "output_type": "execute_result"
    }
   ],
   "source": [
    "df_ROS[['통증기간(월)', '헤모글로빈수치','스테로이드치료', '연령', '흡연여부', '입원기간', '고혈압여부']].isnull().sum()"
   ]
  },
  {
   "cell_type": "code",
   "execution_count": 9,
   "id": "19a2e467-b40a-4ed8-baef-4d013943f8c7",
   "metadata": {
    "tags": []
   },
   "outputs": [],
   "source": [
    "# 누락된 값을 예측하기 위한 학습 데이터와 테스트 데이터로 나누기\n",
    "X_train = df_ROS[other_columns][df_ROS['헤모글로빈수치'].notnull()]\n",
    "y_train = df_ROS['헤모글로빈수치'][df_ROS['헤모글로빈수치'].notnull()]\n",
    "X_test = df_ROS[other_columns][df_ROS['헤모글로빈수치'].isnull()]"
   ]
  },
  {
   "cell_type": "code",
   "execution_count": 10,
   "id": "59813d61-d8c2-43d8-b93c-5fbc574a13ea",
   "metadata": {
    "tags": []
   },
   "outputs": [
    {
     "data": {
      "text/html": [
       "<style>#sk-container-id-2 {color: black;background-color: white;}#sk-container-id-2 pre{padding: 0;}#sk-container-id-2 div.sk-toggleable {background-color: white;}#sk-container-id-2 label.sk-toggleable__label {cursor: pointer;display: block;width: 100%;margin-bottom: 0;padding: 0.3em;box-sizing: border-box;text-align: center;}#sk-container-id-2 label.sk-toggleable__label-arrow:before {content: \"▸\";float: left;margin-right: 0.25em;color: #696969;}#sk-container-id-2 label.sk-toggleable__label-arrow:hover:before {color: black;}#sk-container-id-2 div.sk-estimator:hover label.sk-toggleable__label-arrow:before {color: black;}#sk-container-id-2 div.sk-toggleable__content {max-height: 0;max-width: 0;overflow: hidden;text-align: left;background-color: #f0f8ff;}#sk-container-id-2 div.sk-toggleable__content pre {margin: 0.2em;color: black;border-radius: 0.25em;background-color: #f0f8ff;}#sk-container-id-2 input.sk-toggleable__control:checked~div.sk-toggleable__content {max-height: 200px;max-width: 100%;overflow: auto;}#sk-container-id-2 input.sk-toggleable__control:checked~label.sk-toggleable__label-arrow:before {content: \"▾\";}#sk-container-id-2 div.sk-estimator input.sk-toggleable__control:checked~label.sk-toggleable__label {background-color: #d4ebff;}#sk-container-id-2 div.sk-label input.sk-toggleable__control:checked~label.sk-toggleable__label {background-color: #d4ebff;}#sk-container-id-2 input.sk-hidden--visually {border: 0;clip: rect(1px 1px 1px 1px);clip: rect(1px, 1px, 1px, 1px);height: 1px;margin: -1px;overflow: hidden;padding: 0;position: absolute;width: 1px;}#sk-container-id-2 div.sk-estimator {font-family: monospace;background-color: #f0f8ff;border: 1px dotted black;border-radius: 0.25em;box-sizing: border-box;margin-bottom: 0.5em;}#sk-container-id-2 div.sk-estimator:hover {background-color: #d4ebff;}#sk-container-id-2 div.sk-parallel-item::after {content: \"\";width: 100%;border-bottom: 1px solid gray;flex-grow: 1;}#sk-container-id-2 div.sk-label:hover label.sk-toggleable__label {background-color: #d4ebff;}#sk-container-id-2 div.sk-serial::before {content: \"\";position: absolute;border-left: 1px solid gray;box-sizing: border-box;top: 0;bottom: 0;left: 50%;z-index: 0;}#sk-container-id-2 div.sk-serial {display: flex;flex-direction: column;align-items: center;background-color: white;padding-right: 0.2em;padding-left: 0.2em;position: relative;}#sk-container-id-2 div.sk-item {position: relative;z-index: 1;}#sk-container-id-2 div.sk-parallel {display: flex;align-items: stretch;justify-content: center;background-color: white;position: relative;}#sk-container-id-2 div.sk-item::before, #sk-container-id-2 div.sk-parallel-item::before {content: \"\";position: absolute;border-left: 1px solid gray;box-sizing: border-box;top: 0;bottom: 0;left: 50%;z-index: -1;}#sk-container-id-2 div.sk-parallel-item {display: flex;flex-direction: column;z-index: 1;position: relative;background-color: white;}#sk-container-id-2 div.sk-parallel-item:first-child::after {align-self: flex-end;width: 50%;}#sk-container-id-2 div.sk-parallel-item:last-child::after {align-self: flex-start;width: 50%;}#sk-container-id-2 div.sk-parallel-item:only-child::after {width: 0;}#sk-container-id-2 div.sk-dashed-wrapped {border: 1px dashed gray;margin: 0 0.4em 0.5em 0.4em;box-sizing: border-box;padding-bottom: 0.4em;background-color: white;}#sk-container-id-2 div.sk-label label {font-family: monospace;font-weight: bold;display: inline-block;line-height: 1.2em;}#sk-container-id-2 div.sk-label-container {text-align: center;}#sk-container-id-2 div.sk-container {/* jupyter's `normalize.less` sets `[hidden] { display: none; }` but bootstrap.min.css set `[hidden] { display: none !important; }` so we also need the `!important` here to be able to override the default hidden behavior on the sphinx rendered scikit-learn.org. See: https://github.com/scikit-learn/scikit-learn/issues/21755 */display: inline-block !important;position: relative;}#sk-container-id-2 div.sk-text-repr-fallback {display: none;}</style><div id=\"sk-container-id-2\" class=\"sk-top-container\"><div class=\"sk-text-repr-fallback\"><pre>LinearRegression()</pre><b>In a Jupyter environment, please rerun this cell to show the HTML representation or trust the notebook. <br />On GitHub, the HTML representation is unable to render, please try loading this page with nbviewer.org.</b></div><div class=\"sk-container\" hidden><div class=\"sk-item\"><div class=\"sk-estimator sk-toggleable\"><input class=\"sk-toggleable__control sk-hidden--visually\" id=\"sk-estimator-id-2\" type=\"checkbox\" checked><label for=\"sk-estimator-id-2\" class=\"sk-toggleable__label sk-toggleable__label-arrow\">LinearRegression</label><div class=\"sk-toggleable__content\"><pre>LinearRegression()</pre></div></div></div></div></div>"
      ],
      "text/plain": [
       "LinearRegression()"
      ]
     },
     "execution_count": 10,
     "metadata": {},
     "output_type": "execute_result"
    }
   ],
   "source": [
    "# 선형 회귀 모델 생성\n",
    "model = LinearRegression()\n",
    "\n",
    "# 모델 학습\n",
    "model.fit(X_train, y_train)"
   ]
  },
  {
   "cell_type": "code",
   "execution_count": 11,
   "id": "85d3892e-33e2-44fe-a84d-b350ab960baa",
   "metadata": {
    "tags": []
   },
   "outputs": [],
   "source": [
    "# 누락된 값을 예측하여 채우기\n",
    "predicted_missing_values = model.predict(X_test)\n",
    "\n",
    "# 예측된 값을 데이터프레임에 채워 넣기\n",
    "df_ROS.loc[df_ROS['헤모글로빈수치'].isnull(), '헤모글로빈수치'] = predicted_missing_values\n"
   ]
  },
  {
   "cell_type": "code",
   "execution_count": 12,
   "id": "8dd064e9-9be6-42c0-82a9-16d1fbae258d",
   "metadata": {
    "tags": []
   },
   "outputs": [
    {
     "data": {
      "text/plain": [
       "통증기간(월)    0\n",
       "헤모글로빈수치    0\n",
       "스테로이드치료    0\n",
       "연령         0\n",
       "흡연여부       0\n",
       "입원기간       0\n",
       "고혈압여부      0\n",
       "dtype: int64"
      ]
     },
     "execution_count": 12,
     "metadata": {},
     "output_type": "execute_result"
    }
   ],
   "source": [
    "df_ROS[['통증기간(월)', '헤모글로빈수치','스테로이드치료', '연령', '흡연여부', '입원기간', '고혈압여부']].isnull().sum()"
   ]
  },
  {
   "cell_type": "code",
   "execution_count": 13,
   "id": "dcf1e581-9f12-4aab-8ddc-ab3e202e7f95",
   "metadata": {
    "tags": []
   },
   "outputs": [
    {
     "data": {
      "text/html": [
       "<div>\n",
       "<style scoped>\n",
       "    .dataframe tbody tr th:only-of-type {\n",
       "        vertical-align: middle;\n",
       "    }\n",
       "\n",
       "    .dataframe tbody tr th {\n",
       "        vertical-align: top;\n",
       "    }\n",
       "\n",
       "    .dataframe thead th {\n",
       "        text-align: right;\n",
       "    }\n",
       "</style>\n",
       "<table border=\"1\" class=\"dataframe\">\n",
       "  <thead>\n",
       "    <tr style=\"text-align: right;\">\n",
       "      <th></th>\n",
       "      <th>통증기간(월)</th>\n",
       "      <th>헤모글로빈수치</th>\n",
       "      <th>스테로이드치료</th>\n",
       "      <th>연령</th>\n",
       "      <th>흡연여부</th>\n",
       "      <th>입원기간</th>\n",
       "      <th>고혈압여부</th>\n",
       "    </tr>\n",
       "  </thead>\n",
       "  <tbody>\n",
       "    <tr>\n",
       "      <th>0</th>\n",
       "      <td>1.0</td>\n",
       "      <td>13.66</td>\n",
       "      <td>1</td>\n",
       "      <td>66</td>\n",
       "      <td>0</td>\n",
       "      <td>2</td>\n",
       "      <td>0</td>\n",
       "    </tr>\n",
       "    <tr>\n",
       "      <th>1</th>\n",
       "      <td>1.0</td>\n",
       "      <td>13.73</td>\n",
       "      <td>1</td>\n",
       "      <td>47</td>\n",
       "      <td>0</td>\n",
       "      <td>1</td>\n",
       "      <td>0</td>\n",
       "    </tr>\n",
       "    <tr>\n",
       "      <th>2</th>\n",
       "      <td>1.0</td>\n",
       "      <td>15.34</td>\n",
       "      <td>1</td>\n",
       "      <td>39</td>\n",
       "      <td>0</td>\n",
       "      <td>1</td>\n",
       "      <td>0</td>\n",
       "    </tr>\n",
       "    <tr>\n",
       "      <th>3</th>\n",
       "      <td>2.0</td>\n",
       "      <td>15.38</td>\n",
       "      <td>0</td>\n",
       "      <td>40</td>\n",
       "      <td>0</td>\n",
       "      <td>1</td>\n",
       "      <td>1</td>\n",
       "    </tr>\n",
       "    <tr>\n",
       "      <th>4</th>\n",
       "      <td>1.0</td>\n",
       "      <td>13.08</td>\n",
       "      <td>1</td>\n",
       "      <td>42</td>\n",
       "      <td>0</td>\n",
       "      <td>2</td>\n",
       "      <td>1</td>\n",
       "    </tr>\n",
       "    <tr>\n",
       "      <th>...</th>\n",
       "      <td>...</td>\n",
       "      <td>...</td>\n",
       "      <td>...</td>\n",
       "      <td>...</td>\n",
       "      <td>...</td>\n",
       "      <td>...</td>\n",
       "      <td>...</td>\n",
       "    </tr>\n",
       "    <tr>\n",
       "      <th>1889</th>\n",
       "      <td>12.0</td>\n",
       "      <td>13.60</td>\n",
       "      <td>1</td>\n",
       "      <td>59</td>\n",
       "      <td>0</td>\n",
       "      <td>2</td>\n",
       "      <td>0</td>\n",
       "    </tr>\n",
       "    <tr>\n",
       "      <th>1890</th>\n",
       "      <td>6.0</td>\n",
       "      <td>13.00</td>\n",
       "      <td>1</td>\n",
       "      <td>42</td>\n",
       "      <td>0</td>\n",
       "      <td>4</td>\n",
       "      <td>0</td>\n",
       "    </tr>\n",
       "    <tr>\n",
       "      <th>1891</th>\n",
       "      <td>1.0</td>\n",
       "      <td>14.40</td>\n",
       "      <td>1</td>\n",
       "      <td>61</td>\n",
       "      <td>0</td>\n",
       "      <td>3</td>\n",
       "      <td>0</td>\n",
       "    </tr>\n",
       "    <tr>\n",
       "      <th>1892</th>\n",
       "      <td>24.0</td>\n",
       "      <td>15.00</td>\n",
       "      <td>1</td>\n",
       "      <td>29</td>\n",
       "      <td>0</td>\n",
       "      <td>4</td>\n",
       "      <td>0</td>\n",
       "    </tr>\n",
       "    <tr>\n",
       "      <th>1893</th>\n",
       "      <td>6.0</td>\n",
       "      <td>13.20</td>\n",
       "      <td>1</td>\n",
       "      <td>30</td>\n",
       "      <td>0</td>\n",
       "      <td>2</td>\n",
       "      <td>0</td>\n",
       "    </tr>\n",
       "  </tbody>\n",
       "</table>\n",
       "<p>1894 rows × 7 columns</p>\n",
       "</div>"
      ],
      "text/plain": [
       "      통증기간(월)  헤모글로빈수치  스테로이드치료  연령  흡연여부  입원기간  고혈압여부\n",
       "0         1.0    13.66        1  66     0     2      0\n",
       "1         1.0    13.73        1  47     0     1      0\n",
       "2         1.0    15.34        1  39     0     1      0\n",
       "3         2.0    15.38        0  40     0     1      1\n",
       "4         1.0    13.08        1  42     0     2      1\n",
       "...       ...      ...      ...  ..   ...   ...    ...\n",
       "1889     12.0    13.60        1  59     0     2      0\n",
       "1890      6.0    13.00        1  42     0     4      0\n",
       "1891      1.0    14.40        1  61     0     3      0\n",
       "1892     24.0    15.00        1  29     0     4      0\n",
       "1893      6.0    13.20        1  30     0     2      0\n",
       "\n",
       "[1894 rows x 7 columns]"
      ]
     },
     "execution_count": 13,
     "metadata": {},
     "output_type": "execute_result"
    }
   ],
   "source": [
    "df_ROS_ex = df_ROS[['통증기간(월)', '헤모글로빈수치','스테로이드치료', '연령', '흡연여부', '입원기간', '고혈압여부']]\n",
    "df_ROS_ex"
   ]
  },
  {
   "cell_type": "code",
   "execution_count": 14,
   "id": "60e7545e-4ecc-43ea-87e9-d21079faa5d6",
   "metadata": {
    "tags": []
   },
   "outputs": [
    {
     "data": {
      "text/plain": [
       "((1894,), (1894, 4))"
      ]
     },
     "execution_count": 14,
     "metadata": {},
     "output_type": "execute_result"
    }
   ],
   "source": [
    "# 정형화\n",
    "target = df_ROS_ex['스테로이드치료']\n",
    "features = df_ROS_ex[['연령', '통증기간(월)', '헤모글로빈수치', '입원기간' ]]\n",
    "target.shape, features.shape"
   ]
  },
  {
   "cell_type": "code",
   "execution_count": null,
   "id": "eac5c9d3-a5a5-44dd-8512-ff68cdd59f69",
   "metadata": {},
   "outputs": [],
   "source": []
  },
  {
   "cell_type": "code",
   "execution_count": 15,
   "id": "cd2070ab-f811-4977-8f4f-67668942d011",
   "metadata": {
    "tags": []
   },
   "outputs": [],
   "source": [
    "# machine learning\n",
    "# 기계학습 알고리즘 호출\n",
    "from sklearn.model_selection import train_test_split\n",
    "from sklearn.pipeline import Pipeline\n",
    "from sklearn.preprocessing import MinMaxScaler\n",
    "from sklearn.tree import DecisionTreeClassifier\n",
    "from sklearn.model_selection import GridSearchCV\n",
    "from sklearn.metrics import classification_report\n",
    "from sklearn.tree import plot_tree"
   ]
  },
  {
   "cell_type": "code",
   "execution_count": 20,
   "id": "4d69e2d0-6299-4f56-b232-b539c4216cd7",
   "metadata": {
    "tags": []
   },
   "outputs": [],
   "source": [
    "# pipe_list = [('scaler',MinMaxScaler()),('model',DecisionTreeClassifier())]\n",
    "# pipe_model = Pipeline(pipe_list)\n",
    "pipe_model = DecisionTreeClassifier(max_depth=5, min_samples_leaf=2, criterion='gini', class_weight=None, min_samples_split=2)"
   ]
  },
  {
   "cell_type": "code",
   "execution_count": 21,
   "id": "e5114b78-82ce-4c36-9fe6-394ffb7c5b76",
   "metadata": {
    "tags": []
   },
   "outputs": [
    {
     "data": {
      "text/plain": [
       "Counter({1: 1134, 0: 760})"
      ]
     },
     "execution_count": 21,
     "metadata": {},
     "output_type": "execute_result"
    }
   ],
   "source": [
    "from collections import Counter\n",
    "Counter(target)"
   ]
  },
  {
   "cell_type": "code",
   "execution_count": 24,
   "id": "a61d403f-9aab-4901-811f-457203c7451f",
   "metadata": {
    "tags": []
   },
   "outputs": [],
   "source": [
    "from sklearn.metrics import make_scorer, f1_score\n",
    "scoring = make_scorer(f1_score)\n",
    "hyper_list = {\n",
    "    'max_depth': range(2, 10),\n",
    "    'min_samples_leaf': range(2, 10),\n",
    "    'criterion': ['gini', 'entropy'],\n",
    "    'class_weight': [None, 'balanced'],\n",
    "    'min_samples_split': range(2, 10)\n",
    "}\n",
    "# hyper_list = {'model__max_depth':range(2, 3),}\n",
    "\n",
    "grid_model = GridSearchCV(pipe_model, param_grid=hyper_list,\n",
    "                          scoring=scoring,\n",
    "                          n_jobs = -1,\n",
    "                          cv = 5)"
   ]
  },
  {
   "cell_type": "code",
   "execution_count": 25,
   "id": "0a307cb1-3ea9-46d8-974e-aaf3bbae3ac7",
   "metadata": {
    "tags": []
   },
   "outputs": [
    {
     "name": "stdout",
     "output_type": "stream",
     "text": [
      "------------------------------ 0.7\n",
      "Counter({1: 1085, 0: 760})\n",
      "Counter({1: 765, 0: 526}) Counter({1: 320, 0: 234})\n",
      "Duration: 0:00:14.260846\n",
      "              precision    recall  f1-score   support\n",
      "\n",
      "           0       0.67      0.01      0.02       526\n",
      "           1       0.59      1.00      0.74       765\n",
      "\n",
      "    accuracy                           0.59      1291\n",
      "   macro avg       0.63      0.50      0.38      1291\n",
      "weighted avg       0.62      0.59      0.45      1291\n",
      "\n",
      "              precision    recall  f1-score   support\n",
      "\n",
      "           0       0.33      0.00      0.01       234\n",
      "           1       0.58      0.99      0.73       320\n",
      "\n",
      "    accuracy                           0.58       554\n",
      "   macro avg       0.46      0.50      0.37       554\n",
      "weighted avg       0.47      0.58      0.43       554\n",
      "\n",
      "------------------------------\n",
      "------------------------------ 0.75\n",
      "Counter({1: 1013, 0: 760})\n",
      "Counter({1: 707, 0: 534}) Counter({1: 306, 0: 226})\n",
      "Duration: 0:00:11.092294\n",
      "              precision    recall  f1-score   support\n",
      "\n",
      "           0       1.00      0.04      0.08       534\n",
      "           1       0.58      1.00      0.73       707\n",
      "\n",
      "    accuracy                           0.59      1241\n",
      "   macro avg       0.79      0.52      0.41      1241\n",
      "weighted avg       0.76      0.59      0.45      1241\n",
      "\n",
      "              precision    recall  f1-score   support\n",
      "\n",
      "           0       0.80      0.02      0.03       226\n",
      "           1       0.58      1.00      0.73       306\n",
      "\n",
      "    accuracy                           0.58       532\n",
      "   macro avg       0.69      0.51      0.38       532\n",
      "weighted avg       0.67      0.58      0.44       532\n",
      "\n",
      "------------------------------\n",
      "------------------------------ 0.8\n",
      "Counter({1: 950, 0: 760})\n",
      "Counter({1: 664, 0: 533}) Counter({1: 286, 0: 227})\n",
      "Duration: 0:00:11.009557\n",
      "              precision    recall  f1-score   support\n",
      "\n",
      "           0       0.87      0.08      0.14       533\n",
      "           1       0.57      0.99      0.73       664\n",
      "\n",
      "    accuracy                           0.58      1197\n",
      "   macro avg       0.72      0.53      0.43      1197\n",
      "weighted avg       0.70      0.58      0.46      1197\n",
      "\n",
      "              precision    recall  f1-score   support\n",
      "\n",
      "           0       0.92      0.05      0.10       227\n",
      "           1       0.57      1.00      0.73       286\n",
      "\n",
      "    accuracy                           0.58       513\n",
      "   macro avg       0.75      0.52      0.41       513\n",
      "weighted avg       0.73      0.58      0.45       513\n",
      "\n",
      "------------------------------\n",
      "------------------------------ 0.8500000000000001\n",
      "Counter({1: 894, 0: 760})\n",
      "Counter({1: 626, 0: 531}) Counter({1: 268, 0: 229})\n",
      "Duration: 0:00:11.245942\n",
      "              precision    recall  f1-score   support\n",
      "\n",
      "           0       0.93      0.07      0.13       531\n",
      "           1       0.56      1.00      0.72       626\n",
      "\n",
      "    accuracy                           0.57      1157\n",
      "   macro avg       0.74      0.53      0.42      1157\n",
      "weighted avg       0.73      0.57      0.45      1157\n",
      "\n",
      "              precision    recall  f1-score   support\n",
      "\n",
      "           0       1.00      0.06      0.12       229\n",
      "           1       0.55      1.00      0.71       268\n",
      "\n",
      "    accuracy                           0.57       497\n",
      "   macro avg       0.78      0.53      0.41       497\n",
      "weighted avg       0.76      0.57      0.44       497\n",
      "\n",
      "------------------------------\n",
      "------------------------------ 0.9000000000000001\n",
      "Counter({1: 844, 0: 760})\n",
      "Counter({1: 594, 0: 528}) Counter({1: 250, 0: 232})\n",
      "Duration: 0:00:10.938764\n",
      "              precision    recall  f1-score   support\n",
      "\n",
      "           0       0.80      0.16      0.27       528\n",
      "           1       0.56      0.96      0.71       594\n",
      "\n",
      "    accuracy                           0.59      1122\n",
      "   macro avg       0.68      0.56      0.49      1122\n",
      "weighted avg       0.68      0.59      0.50      1122\n",
      "\n",
      "              precision    recall  f1-score   support\n",
      "\n",
      "           0       0.65      0.11      0.19       232\n",
      "           1       0.53      0.94      0.68       250\n",
      "\n",
      "    accuracy                           0.54       482\n",
      "   macro avg       0.59      0.53      0.44       482\n",
      "weighted avg       0.59      0.54      0.45       482\n",
      "\n",
      "------------------------------\n",
      "------------------------------ 0.9500000000000002\n",
      "Counter({1: 799, 0: 760})\n",
      "Counter({1: 559, 0: 532}) Counter({1: 240, 0: 228})\n",
      "Duration: 0:00:10.705331\n",
      "              precision    recall  f1-score   support\n",
      "\n",
      "           0       0.80      0.19      0.31       532\n",
      "           1       0.55      0.96      0.70       559\n",
      "\n",
      "    accuracy                           0.58      1091\n",
      "   macro avg       0.68      0.57      0.51      1091\n",
      "weighted avg       0.68      0.58      0.51      1091\n",
      "\n",
      "              precision    recall  f1-score   support\n",
      "\n",
      "           0       0.68      0.14      0.23       228\n",
      "           1       0.53      0.94      0.68       240\n",
      "\n",
      "    accuracy                           0.55       468\n",
      "   macro avg       0.61      0.54      0.46       468\n",
      "weighted avg       0.61      0.55      0.46       468\n",
      "\n",
      "------------------------------\n",
      "------------------------------ 1.0000000000000002\n"
     ]
    },
    {
     "ename": "InvalidParameterError",
     "evalue": "The 'sampling_strategy' parameter of NearMiss must be a float in the range (0, 1], a str among {'all', 'not minority', 'majority', 'auto', 'not majority'}, an instance of 'collections.abc.Mapping' or a callable. Got 1.0000000000000002 instead.",
     "output_type": "error",
     "traceback": [
      "\u001b[1;31m---------------------------------------------------------------------------\u001b[0m",
      "\u001b[1;31mInvalidParameterError\u001b[0m                     Traceback (most recent call last)",
      "Cell \u001b[1;32mIn[25], line 9\u001b[0m\n\u001b[0;32m      7\u001b[0m \u001b[38;5;28mprint\u001b[39m(\u001b[38;5;241m30\u001b[39m\u001b[38;5;241m*\u001b[39m\u001b[38;5;124m'\u001b[39m\u001b[38;5;124m-\u001b[39m\u001b[38;5;124m'\u001b[39m,\u001b[38;5;124m'\u001b[39m\u001b[38;5;132;01m{}\u001b[39;00m\u001b[38;5;124m'\u001b[39m\u001b[38;5;241m.\u001b[39mformat(sampling_strategy))\n\u001b[0;32m      8\u001b[0m resampler \u001b[38;5;241m=\u001b[39m NearMiss(sampling_strategy\u001b[38;5;241m=\u001b[39msampling_strategy)\n\u001b[1;32m----> 9\u001b[0m features_under_resample, target_under_resample \u001b[38;5;241m=\u001b[39m resampler\u001b[38;5;241m.\u001b[39mfit_resample(features, target)\n\u001b[0;32m     10\u001b[0m \u001b[38;5;28mprint\u001b[39m(Counter(target_under_resample))\n\u001b[0;32m     11\u001b[0m features_under_resample_train, features_under_resample_test, target_under_resample_train, target_under_resample_test \u001b[38;5;241m=\u001b[39m train_test_split(features_under_resample, target_under_resample, test_size \u001b[38;5;241m=\u001b[39m \u001b[38;5;241m0.3\u001b[39m, random_state\u001b[38;5;241m=\u001b[39m \u001b[38;5;241m1234\u001b[39m)\n",
      "File \u001b[1;32m~\\anaconda3\\Lib\\site-packages\\imblearn\\base.py:202\u001b[0m, in \u001b[0;36mBaseSampler.fit_resample\u001b[1;34m(self, X, y)\u001b[0m\n\u001b[0;32m    181\u001b[0m \u001b[38;5;28;01mdef\u001b[39;00m \u001b[38;5;21mfit_resample\u001b[39m(\u001b[38;5;28mself\u001b[39m, X, y):\n\u001b[0;32m    182\u001b[0m \u001b[38;5;250m    \u001b[39m\u001b[38;5;124;03m\"\"\"Resample the dataset.\u001b[39;00m\n\u001b[0;32m    183\u001b[0m \n\u001b[0;32m    184\u001b[0m \u001b[38;5;124;03m    Parameters\u001b[39;00m\n\u001b[1;32m   (...)\u001b[0m\n\u001b[0;32m    200\u001b[0m \u001b[38;5;124;03m        The corresponding label of `X_resampled`.\u001b[39;00m\n\u001b[0;32m    201\u001b[0m \u001b[38;5;124;03m    \"\"\"\u001b[39;00m\n\u001b[1;32m--> 202\u001b[0m     \u001b[38;5;28mself\u001b[39m\u001b[38;5;241m.\u001b[39m_validate_params()\n\u001b[0;32m    203\u001b[0m     \u001b[38;5;28;01mreturn\u001b[39;00m \u001b[38;5;28msuper\u001b[39m()\u001b[38;5;241m.\u001b[39mfit_resample(X, y)\n",
      "File \u001b[1;32m~\\anaconda3\\Lib\\site-packages\\sklearn\\base.py:600\u001b[0m, in \u001b[0;36mBaseEstimator._validate_params\u001b[1;34m(self)\u001b[0m\n\u001b[0;32m    592\u001b[0m \u001b[38;5;28;01mdef\u001b[39;00m \u001b[38;5;21m_validate_params\u001b[39m(\u001b[38;5;28mself\u001b[39m):\n\u001b[0;32m    593\u001b[0m \u001b[38;5;250m    \u001b[39m\u001b[38;5;124;03m\"\"\"Validate types and values of constructor parameters\u001b[39;00m\n\u001b[0;32m    594\u001b[0m \n\u001b[0;32m    595\u001b[0m \u001b[38;5;124;03m    The expected type and values must be defined in the `_parameter_constraints`\u001b[39;00m\n\u001b[1;32m   (...)\u001b[0m\n\u001b[0;32m    598\u001b[0m \u001b[38;5;124;03m    accepted constraints.\u001b[39;00m\n\u001b[0;32m    599\u001b[0m \u001b[38;5;124;03m    \"\"\"\u001b[39;00m\n\u001b[1;32m--> 600\u001b[0m     validate_parameter_constraints(\n\u001b[0;32m    601\u001b[0m         \u001b[38;5;28mself\u001b[39m\u001b[38;5;241m.\u001b[39m_parameter_constraints,\n\u001b[0;32m    602\u001b[0m         \u001b[38;5;28mself\u001b[39m\u001b[38;5;241m.\u001b[39mget_params(deep\u001b[38;5;241m=\u001b[39m\u001b[38;5;28;01mFalse\u001b[39;00m),\n\u001b[0;32m    603\u001b[0m         caller_name\u001b[38;5;241m=\u001b[39m\u001b[38;5;28mself\u001b[39m\u001b[38;5;241m.\u001b[39m\u001b[38;5;18m__class__\u001b[39m\u001b[38;5;241m.\u001b[39m\u001b[38;5;18m__name__\u001b[39m,\n\u001b[0;32m    604\u001b[0m     )\n",
      "File \u001b[1;32m~\\anaconda3\\Lib\\site-packages\\sklearn\\utils\\_param_validation.py:97\u001b[0m, in \u001b[0;36mvalidate_parameter_constraints\u001b[1;34m(parameter_constraints, params, caller_name)\u001b[0m\n\u001b[0;32m     91\u001b[0m \u001b[38;5;28;01melse\u001b[39;00m:\n\u001b[0;32m     92\u001b[0m     constraints_str \u001b[38;5;241m=\u001b[39m (\n\u001b[0;32m     93\u001b[0m         \u001b[38;5;124mf\u001b[39m\u001b[38;5;124m\"\u001b[39m\u001b[38;5;132;01m{\u001b[39;00m\u001b[38;5;124m'\u001b[39m\u001b[38;5;124m, \u001b[39m\u001b[38;5;124m'\u001b[39m\u001b[38;5;241m.\u001b[39mjoin([\u001b[38;5;28mstr\u001b[39m(c)\u001b[38;5;250m \u001b[39m\u001b[38;5;28;01mfor\u001b[39;00m\u001b[38;5;250m \u001b[39mc\u001b[38;5;250m \u001b[39m\u001b[38;5;129;01min\u001b[39;00m\u001b[38;5;250m \u001b[39mconstraints[:\u001b[38;5;241m-\u001b[39m\u001b[38;5;241m1\u001b[39m]])\u001b[38;5;132;01m}\u001b[39;00m\u001b[38;5;124m or\u001b[39m\u001b[38;5;124m\"\u001b[39m\n\u001b[0;32m     94\u001b[0m         \u001b[38;5;124mf\u001b[39m\u001b[38;5;124m\"\u001b[39m\u001b[38;5;124m \u001b[39m\u001b[38;5;132;01m{\u001b[39;00mconstraints[\u001b[38;5;241m-\u001b[39m\u001b[38;5;241m1\u001b[39m]\u001b[38;5;132;01m}\u001b[39;00m\u001b[38;5;124m\"\u001b[39m\n\u001b[0;32m     95\u001b[0m     )\n\u001b[1;32m---> 97\u001b[0m \u001b[38;5;28;01mraise\u001b[39;00m InvalidParameterError(\n\u001b[0;32m     98\u001b[0m     \u001b[38;5;124mf\u001b[39m\u001b[38;5;124m\"\u001b[39m\u001b[38;5;124mThe \u001b[39m\u001b[38;5;132;01m{\u001b[39;00mparam_name\u001b[38;5;132;01m!r}\u001b[39;00m\u001b[38;5;124m parameter of \u001b[39m\u001b[38;5;132;01m{\u001b[39;00mcaller_name\u001b[38;5;132;01m}\u001b[39;00m\u001b[38;5;124m must be\u001b[39m\u001b[38;5;124m\"\u001b[39m\n\u001b[0;32m     99\u001b[0m     \u001b[38;5;124mf\u001b[39m\u001b[38;5;124m\"\u001b[39m\u001b[38;5;124m \u001b[39m\u001b[38;5;132;01m{\u001b[39;00mconstraints_str\u001b[38;5;132;01m}\u001b[39;00m\u001b[38;5;124m. Got \u001b[39m\u001b[38;5;132;01m{\u001b[39;00mparam_val\u001b[38;5;132;01m!r}\u001b[39;00m\u001b[38;5;124m instead.\u001b[39m\u001b[38;5;124m\"\u001b[39m\n\u001b[0;32m    100\u001b[0m )\n",
      "\u001b[1;31mInvalidParameterError\u001b[0m: The 'sampling_strategy' parameter of NearMiss must be a float in the range (0, 1], a str among {'all', 'not minority', 'majority', 'auto', 'not majority'}, an instance of 'collections.abc.Mapping' or a callable. Got 1.0000000000000002 instead."
     ]
    }
   ],
   "source": [
    "from imblearn.under_sampling import NearMiss, EditedNearestNeighbours\n",
    "from datetime import datetime\n",
    "import numpy as np\n",
    "sampling_strategy_list=np.arange(0.7, 1.0, 0.05)\n",
    "\n",
    "for sampling_strategy in sampling_strategy_list :\n",
    "  print(30*'-','{}'.format(sampling_strategy))\n",
    "  resampler = NearMiss(sampling_strategy=sampling_strategy)\n",
    "  features_under_resample, target_under_resample = resampler.fit_resample(features, target)\n",
    "  print(Counter(target_under_resample))\n",
    "  features_under_resample_train, features_under_resample_test, target_under_resample_train, target_under_resample_test = train_test_split(features_under_resample, target_under_resample, test_size = 0.3, random_state= 1234)\n",
    "  print(Counter(target_under_resample_train), Counter(target_under_resample_test))\n",
    "  # re learning with oversampling datasets\n",
    "\n",
    "  start = datetime.now()  # start date and time\n",
    "\n",
    "  grid_model.fit(features_under_resample_train, target_under_resample_train)\n",
    "\n",
    "  end = datetime.now()  # end date and time - set to current date and time\n",
    "\n",
    "  duration = end - start  # duration as a timedelta object\n",
    "\n",
    "  print(\"Duration: {0}\".format(duration))\n",
    "\n",
    "  best_model = grid_model.best_estimator_\n",
    "  target_under_resample_train_pred = best_model.predict(features_under_resample_train)\n",
    "  target_under_resample_test_pred = best_model.predict(features_under_resample_test)\n",
    "\n",
    "  print(classification_report(target_under_resample_train, target_under_resample_train_pred))\n",
    "  print(classification_report(target_under_resample_test, target_under_resample_test_pred))\n",
    "  print(30*'-')"
   ]
  },
  {
   "cell_type": "code",
   "execution_count": 26,
   "id": "91d608b0-9dfb-45db-8614-7995125b5d23",
   "metadata": {
    "tags": []
   },
   "outputs": [
    {
     "name": "stdout",
     "output_type": "stream",
     "text": [
      "------------------------------ 0.7\n",
      "Counter({1: 1134, 0: 793})\n",
      "Counter({1: 770, 0: 578}) Counter({1: 364, 0: 215})\n",
      "Duration: 0:00:11.314733\n",
      "              precision    recall  f1-score   support\n",
      "\n",
      "           0       0.80      0.19      0.31       532\n",
      "           1       0.55      0.96      0.70       559\n",
      "\n",
      "    accuracy                           0.58      1091\n",
      "   macro avg       0.68      0.57      0.51      1091\n",
      "weighted avg       0.68      0.58      0.51      1091\n",
      "\n",
      "              precision    recall  f1-score   support\n",
      "\n",
      "           0       0.68      0.14      0.23       228\n",
      "           1       0.53      0.94      0.68       240\n",
      "\n",
      "    accuracy                           0.55       468\n",
      "   macro avg       0.61      0.54      0.46       468\n",
      "weighted avg       0.61      0.55      0.46       468\n",
      "\n",
      "------------------------------\n",
      "------------------------------ 0.75\n",
      "Counter({1: 1134, 0: 850})\n",
      "Counter({1: 782, 0: 606}) Counter({1: 352, 0: 244})\n",
      "Duration: 0:00:11.858282\n",
      "              precision    recall  f1-score   support\n",
      "\n",
      "           0       0.80      0.19      0.31       532\n",
      "           1       0.55      0.96      0.70       559\n",
      "\n",
      "    accuracy                           0.58      1091\n",
      "   macro avg       0.68      0.57      0.51      1091\n",
      "weighted avg       0.68      0.58      0.51      1091\n",
      "\n",
      "              precision    recall  f1-score   support\n",
      "\n",
      "           0       0.68      0.14      0.23       228\n",
      "           1       0.53      0.94      0.68       240\n",
      "\n",
      "    accuracy                           0.55       468\n",
      "   macro avg       0.61      0.54      0.46       468\n",
      "weighted avg       0.61      0.55      0.46       468\n",
      "\n",
      "------------------------------\n",
      "------------------------------ 0.8\n",
      "Counter({1: 1134, 0: 907})\n",
      "Counter({1: 781, 0: 647}) Counter({1: 353, 0: 260})\n",
      "Duration: 0:00:11.680779\n",
      "              precision    recall  f1-score   support\n",
      "\n",
      "           0       0.80      0.19      0.31       532\n",
      "           1       0.55      0.96      0.70       559\n",
      "\n",
      "    accuracy                           0.58      1091\n",
      "   macro avg       0.68      0.57      0.51      1091\n",
      "weighted avg       0.68      0.58      0.51      1091\n",
      "\n",
      "              precision    recall  f1-score   support\n",
      "\n",
      "           0       0.68      0.14      0.23       228\n",
      "           1       0.53      0.94      0.68       240\n",
      "\n",
      "    accuracy                           0.55       468\n",
      "   macro avg       0.61      0.54      0.46       468\n",
      "weighted avg       0.61      0.55      0.46       468\n",
      "\n",
      "------------------------------\n",
      "------------------------------ 0.8500000000000001\n",
      "Counter({1: 1134, 0: 963})\n",
      "Counter({1: 779, 0: 688}) Counter({1: 355, 0: 275})\n",
      "Duration: 0:00:16.576624\n",
      "              precision    recall  f1-score   support\n",
      "\n",
      "           0       0.80      0.19      0.31       532\n",
      "           1       0.55      0.96      0.70       559\n",
      "\n",
      "    accuracy                           0.58      1091\n",
      "   macro avg       0.68      0.57      0.51      1091\n",
      "weighted avg       0.68      0.58      0.51      1091\n",
      "\n",
      "              precision    recall  f1-score   support\n",
      "\n",
      "           0       0.68      0.14      0.23       228\n",
      "           1       0.53      0.94      0.68       240\n",
      "\n",
      "    accuracy                           0.55       468\n",
      "   macro avg       0.61      0.54      0.46       468\n",
      "weighted avg       0.61      0.55      0.46       468\n",
      "\n",
      "------------------------------\n",
      "------------------------------ 0.9000000000000001\n",
      "Counter({1: 1134, 0: 1020})\n",
      "Counter({1: 786, 0: 721}) Counter({1: 348, 0: 299})\n",
      "Duration: 0:00:14.674738\n",
      "              precision    recall  f1-score   support\n",
      "\n",
      "           0       0.80      0.19      0.31       532\n",
      "           1       0.55      0.96      0.70       559\n",
      "\n",
      "    accuracy                           0.58      1091\n",
      "   macro avg       0.68      0.57      0.51      1091\n",
      "weighted avg       0.68      0.58      0.51      1091\n",
      "\n",
      "              precision    recall  f1-score   support\n",
      "\n",
      "           0       0.68      0.14      0.23       228\n",
      "           1       0.53      0.94      0.68       240\n",
      "\n",
      "    accuracy                           0.55       468\n",
      "   macro avg       0.61      0.54      0.46       468\n",
      "weighted avg       0.61      0.55      0.46       468\n",
      "\n",
      "------------------------------\n",
      "------------------------------ 0.9500000000000002\n",
      "Counter({1: 1134, 0: 1077})\n",
      "Counter({1: 778, 0: 769}) Counter({1: 356, 0: 308})\n",
      "Duration: 0:00:11.896174\n",
      "              precision    recall  f1-score   support\n",
      "\n",
      "           0       0.80      0.19      0.31       532\n",
      "           1       0.55      0.96      0.70       559\n",
      "\n",
      "    accuracy                           0.58      1091\n",
      "   macro avg       0.68      0.57      0.51      1091\n",
      "weighted avg       0.68      0.58      0.51      1091\n",
      "\n",
      "              precision    recall  f1-score   support\n",
      "\n",
      "           0       0.68      0.14      0.23       228\n",
      "           1       0.53      0.94      0.68       240\n",
      "\n",
      "    accuracy                           0.55       468\n",
      "   macro avg       0.61      0.54      0.46       468\n",
      "weighted avg       0.61      0.55      0.46       468\n",
      "\n",
      "------------------------------\n",
      "------------------------------ 1.0000000000000002\n"
     ]
    },
    {
     "ename": "InvalidParameterError",
     "evalue": "The 'sampling_strategy' parameter of SMOTE must be a float in the range (0, 1], a str among {'all', 'minority', 'not minority', 'auto', 'not majority'}, an instance of 'collections.abc.Mapping' or a callable. Got 1.0000000000000002 instead.",
     "output_type": "error",
     "traceback": [
      "\u001b[1;31m---------------------------------------------------------------------------\u001b[0m",
      "\u001b[1;31mInvalidParameterError\u001b[0m                     Traceback (most recent call last)",
      "Cell \u001b[1;32mIn[26], line 9\u001b[0m\n\u001b[0;32m      7\u001b[0m \u001b[38;5;28mprint\u001b[39m(\u001b[38;5;241m30\u001b[39m\u001b[38;5;241m*\u001b[39m\u001b[38;5;124m'\u001b[39m\u001b[38;5;124m-\u001b[39m\u001b[38;5;124m'\u001b[39m,\u001b[38;5;124m'\u001b[39m\u001b[38;5;132;01m{}\u001b[39;00m\u001b[38;5;124m'\u001b[39m\u001b[38;5;241m.\u001b[39mformat(sampling_strategy))\n\u001b[0;32m      8\u001b[0m resampler \u001b[38;5;241m=\u001b[39m SMOTE(sampling_strategy\u001b[38;5;241m=\u001b[39msampling_strategy)\n\u001b[1;32m----> 9\u001b[0m features_over_resample, target_over_resample \u001b[38;5;241m=\u001b[39m resampler\u001b[38;5;241m.\u001b[39mfit_resample(features, target)\n\u001b[0;32m     10\u001b[0m \u001b[38;5;28mprint\u001b[39m(Counter(target_over_resample))\n\u001b[0;32m     11\u001b[0m features_over_resample_train, features_over_resample_test, target_over_resample_train, target_over_resample_test \u001b[38;5;241m=\u001b[39m train_test_split(features_over_resample, target_over_resample, test_size \u001b[38;5;241m=\u001b[39m \u001b[38;5;241m0.3\u001b[39m, random_state\u001b[38;5;241m=\u001b[39m \u001b[38;5;241m1234\u001b[39m)\n",
      "File \u001b[1;32m~\\anaconda3\\Lib\\site-packages\\imblearn\\base.py:202\u001b[0m, in \u001b[0;36mBaseSampler.fit_resample\u001b[1;34m(self, X, y)\u001b[0m\n\u001b[0;32m    181\u001b[0m \u001b[38;5;28;01mdef\u001b[39;00m \u001b[38;5;21mfit_resample\u001b[39m(\u001b[38;5;28mself\u001b[39m, X, y):\n\u001b[0;32m    182\u001b[0m \u001b[38;5;250m    \u001b[39m\u001b[38;5;124;03m\"\"\"Resample the dataset.\u001b[39;00m\n\u001b[0;32m    183\u001b[0m \n\u001b[0;32m    184\u001b[0m \u001b[38;5;124;03m    Parameters\u001b[39;00m\n\u001b[1;32m   (...)\u001b[0m\n\u001b[0;32m    200\u001b[0m \u001b[38;5;124;03m        The corresponding label of `X_resampled`.\u001b[39;00m\n\u001b[0;32m    201\u001b[0m \u001b[38;5;124;03m    \"\"\"\u001b[39;00m\n\u001b[1;32m--> 202\u001b[0m     \u001b[38;5;28mself\u001b[39m\u001b[38;5;241m.\u001b[39m_validate_params()\n\u001b[0;32m    203\u001b[0m     \u001b[38;5;28;01mreturn\u001b[39;00m \u001b[38;5;28msuper\u001b[39m()\u001b[38;5;241m.\u001b[39mfit_resample(X, y)\n",
      "File \u001b[1;32m~\\anaconda3\\Lib\\site-packages\\sklearn\\base.py:600\u001b[0m, in \u001b[0;36mBaseEstimator._validate_params\u001b[1;34m(self)\u001b[0m\n\u001b[0;32m    592\u001b[0m \u001b[38;5;28;01mdef\u001b[39;00m \u001b[38;5;21m_validate_params\u001b[39m(\u001b[38;5;28mself\u001b[39m):\n\u001b[0;32m    593\u001b[0m \u001b[38;5;250m    \u001b[39m\u001b[38;5;124;03m\"\"\"Validate types and values of constructor parameters\u001b[39;00m\n\u001b[0;32m    594\u001b[0m \n\u001b[0;32m    595\u001b[0m \u001b[38;5;124;03m    The expected type and values must be defined in the `_parameter_constraints`\u001b[39;00m\n\u001b[1;32m   (...)\u001b[0m\n\u001b[0;32m    598\u001b[0m \u001b[38;5;124;03m    accepted constraints.\u001b[39;00m\n\u001b[0;32m    599\u001b[0m \u001b[38;5;124;03m    \"\"\"\u001b[39;00m\n\u001b[1;32m--> 600\u001b[0m     validate_parameter_constraints(\n\u001b[0;32m    601\u001b[0m         \u001b[38;5;28mself\u001b[39m\u001b[38;5;241m.\u001b[39m_parameter_constraints,\n\u001b[0;32m    602\u001b[0m         \u001b[38;5;28mself\u001b[39m\u001b[38;5;241m.\u001b[39mget_params(deep\u001b[38;5;241m=\u001b[39m\u001b[38;5;28;01mFalse\u001b[39;00m),\n\u001b[0;32m    603\u001b[0m         caller_name\u001b[38;5;241m=\u001b[39m\u001b[38;5;28mself\u001b[39m\u001b[38;5;241m.\u001b[39m\u001b[38;5;18m__class__\u001b[39m\u001b[38;5;241m.\u001b[39m\u001b[38;5;18m__name__\u001b[39m,\n\u001b[0;32m    604\u001b[0m     )\n",
      "File \u001b[1;32m~\\anaconda3\\Lib\\site-packages\\sklearn\\utils\\_param_validation.py:97\u001b[0m, in \u001b[0;36mvalidate_parameter_constraints\u001b[1;34m(parameter_constraints, params, caller_name)\u001b[0m\n\u001b[0;32m     91\u001b[0m \u001b[38;5;28;01melse\u001b[39;00m:\n\u001b[0;32m     92\u001b[0m     constraints_str \u001b[38;5;241m=\u001b[39m (\n\u001b[0;32m     93\u001b[0m         \u001b[38;5;124mf\u001b[39m\u001b[38;5;124m\"\u001b[39m\u001b[38;5;132;01m{\u001b[39;00m\u001b[38;5;124m'\u001b[39m\u001b[38;5;124m, \u001b[39m\u001b[38;5;124m'\u001b[39m\u001b[38;5;241m.\u001b[39mjoin([\u001b[38;5;28mstr\u001b[39m(c)\u001b[38;5;250m \u001b[39m\u001b[38;5;28;01mfor\u001b[39;00m\u001b[38;5;250m \u001b[39mc\u001b[38;5;250m \u001b[39m\u001b[38;5;129;01min\u001b[39;00m\u001b[38;5;250m \u001b[39mconstraints[:\u001b[38;5;241m-\u001b[39m\u001b[38;5;241m1\u001b[39m]])\u001b[38;5;132;01m}\u001b[39;00m\u001b[38;5;124m or\u001b[39m\u001b[38;5;124m\"\u001b[39m\n\u001b[0;32m     94\u001b[0m         \u001b[38;5;124mf\u001b[39m\u001b[38;5;124m\"\u001b[39m\u001b[38;5;124m \u001b[39m\u001b[38;5;132;01m{\u001b[39;00mconstraints[\u001b[38;5;241m-\u001b[39m\u001b[38;5;241m1\u001b[39m]\u001b[38;5;132;01m}\u001b[39;00m\u001b[38;5;124m\"\u001b[39m\n\u001b[0;32m     95\u001b[0m     )\n\u001b[1;32m---> 97\u001b[0m \u001b[38;5;28;01mraise\u001b[39;00m InvalidParameterError(\n\u001b[0;32m     98\u001b[0m     \u001b[38;5;124mf\u001b[39m\u001b[38;5;124m\"\u001b[39m\u001b[38;5;124mThe \u001b[39m\u001b[38;5;132;01m{\u001b[39;00mparam_name\u001b[38;5;132;01m!r}\u001b[39;00m\u001b[38;5;124m parameter of \u001b[39m\u001b[38;5;132;01m{\u001b[39;00mcaller_name\u001b[38;5;132;01m}\u001b[39;00m\u001b[38;5;124m must be\u001b[39m\u001b[38;5;124m\"\u001b[39m\n\u001b[0;32m     99\u001b[0m     \u001b[38;5;124mf\u001b[39m\u001b[38;5;124m\"\u001b[39m\u001b[38;5;124m \u001b[39m\u001b[38;5;132;01m{\u001b[39;00mconstraints_str\u001b[38;5;132;01m}\u001b[39;00m\u001b[38;5;124m. Got \u001b[39m\u001b[38;5;132;01m{\u001b[39;00mparam_val\u001b[38;5;132;01m!r}\u001b[39;00m\u001b[38;5;124m instead.\u001b[39m\u001b[38;5;124m\"\u001b[39m\n\u001b[0;32m    100\u001b[0m )\n",
      "\u001b[1;31mInvalidParameterError\u001b[0m: The 'sampling_strategy' parameter of SMOTE must be a float in the range (0, 1], a str among {'all', 'minority', 'not minority', 'auto', 'not majority'}, an instance of 'collections.abc.Mapping' or a callable. Got 1.0000000000000002 instead."
     ]
    }
   ],
   "source": [
    "from imblearn.over_sampling import SMOTE\n",
    "from datetime import datetime\n",
    "import numpy as np\n",
    "sampling_strategy_list=np.arange(0.7, 1.0, 0.05)\n",
    "\n",
    "for sampling_strategy in sampling_strategy_list :\n",
    "  print(30*'-','{}'.format(sampling_strategy))\n",
    "  resampler = SMOTE(sampling_strategy=sampling_strategy)\n",
    "  features_over_resample, target_over_resample = resampler.fit_resample(features, target)\n",
    "  print(Counter(target_over_resample))\n",
    "  features_over_resample_train, features_over_resample_test, target_over_resample_train, target_over_resample_test = train_test_split(features_over_resample, target_over_resample, test_size = 0.3, random_state= 1234)\n",
    "  print(Counter(target_over_resample_train), Counter(target_over_resample_test))\n",
    "  # re learning with oversampling datasets\n",
    "\n",
    "  start = datetime.now()  # start date and time\n",
    "\n",
    "  grid_model.fit(features_under_resample_train, target_under_resample_train)\n",
    "\n",
    "  end = datetime.now()  # end date and time - set to current date and time\n",
    "\n",
    "  duration = end - start  # duration as a timedelta object\n",
    "\n",
    "  print(\"Duration: {0}\".format(duration))\n",
    "\n",
    "  best_model = grid_model.best_estimator_\n",
    "  target_under_resample_train_pred = best_model.predict(features_under_resample_train)\n",
    "  target_under_resample_test_pred = best_model.predict(features_under_resample_test)\n",
    "\n",
    "  print(classification_report(target_under_resample_train, target_under_resample_train_pred))\n",
    "  print(classification_report(target_under_resample_test, target_under_resample_test_pred))\n",
    "  print(30*'-')"
   ]
  },
  {
   "cell_type": "markdown",
   "id": "ba0ea802-5ea5-43b9-8ed0-4f5b06fb2cc8",
   "metadata": {},
   "source": [
    "- 리샘플링 결과 oversampling strategy가 0.95로 가장 베스트로 나옴. 그리고 undersampling 은 0.7부터 가장 적합하게 나왔음. 그래서 둘중 아무거나 해도됨."
   ]
  },
  {
   "cell_type": "code",
   "execution_count": 27,
   "id": "fd3ef3c7-c9e5-4b5b-9450-7ede6e977307",
   "metadata": {
    "tags": []
   },
   "outputs": [
    {
     "data": {
      "text/plain": [
       "Counter({1: 1134, 0: 760})"
      ]
     },
     "execution_count": 27,
     "metadata": {},
     "output_type": "execute_result"
    }
   ],
   "source": [
    "# resmapling\n",
    "from collections import Counter\n",
    "\n",
    "# resampling 하기 전\n",
    "Counter(target)"
   ]
  },
  {
   "cell_type": "code",
   "execution_count": 28,
   "id": "a11b16f8-6b38-4666-ab19-d225fbca311b",
   "metadata": {
    "tags": []
   },
   "outputs": [
    {
     "data": {
      "text/plain": [
       "Counter({1: 1134, 0: 907})"
      ]
     },
     "execution_count": 28,
     "metadata": {},
     "output_type": "execute_result"
    }
   ],
   "source": [
    "# OverSampling\n",
    "from imblearn.over_sampling import SMOTE\n",
    "resample = SMOTE(sampling_strategy=0.8)\n",
    "features_over_resample, target_over_resample = resample.fit_resample(features, target)\n",
    "\n",
    "# resampling 하기 후\n",
    "Counter(target_over_resample)"
   ]
  },
  {
   "cell_type": "code",
   "execution_count": 29,
   "id": "6cfee373-f925-4f0e-89db-b600e03185a1",
   "metadata": {
    "tags": []
   },
   "outputs": [],
   "source": [
    "# # Combine Sampling\n",
    "# from imblearn.combine import SMOTEENN\n",
    "# resample = SMOTEENN(sampling_strategy=0.75)\n",
    "# features_combine_resample, target_combine_resample = resample.fit_resample(features, target)\n",
    "# # resampling 하기 후\n",
    "# Counter(target_combine_resample)"
   ]
  },
  {
   "cell_type": "code",
   "execution_count": 30,
   "id": "2f88630a-a4bf-4358-ad7e-16dbc4967e43",
   "metadata": {
    "tags": []
   },
   "outputs": [
    {
     "name": "stdout",
     "output_type": "stream",
     "text": [
      "(1428, 4)\n",
      "(1428,)\n",
      "(613, 4)\n",
      "(613,)\n"
     ]
    }
   ],
   "source": [
    "# Over Sampling\n",
    "features_train, features_test, target_train, target_test = train_test_split(features_over_resample, target_over_resample\n",
    "                                                                            , test_size = 0.3, random_state= 1234)\n",
    "print(features_train.shape)\n",
    "print(target_train.shape)\n",
    "print(features_test .shape)\n",
    "print(target_test.shape)"
   ]
  },
  {
   "cell_type": "code",
   "execution_count": 31,
   "id": "4f4b4818-2411-49ba-a0b8-6de070f2a18a",
   "metadata": {
    "tags": []
   },
   "outputs": [],
   "source": [
    "# pipe_list = [('scaler',MinMaxScaler()),('model',DecisionTreeClassifier())]\n",
    "# pipe_model = Pipeline(pipe_list)\n",
    "pipe_model = DecisionTreeClassifier(max_depth=5, min_samples_leaf=2, criterion='gini', class_weight=None, min_samples_split=2)"
   ]
  },
  {
   "cell_type": "code",
   "execution_count": 32,
   "id": "eb9584e8-4702-4815-820c-e2369f38a3fb",
   "metadata": {
    "tags": []
   },
   "outputs": [],
   "source": [
    "from sklearn.metrics import make_scorer, f1_score\n",
    "scoring = make_scorer(f1_score)\n",
    "hyper_list = {\n",
    "    'max_depth': range(2, 10),\n",
    "    'min_samples_leaf': range(2, 10),\n",
    "    'criterion': ['gini', 'entropy'],\n",
    "    'class_weight': [None, 'balanced'],\n",
    "    'min_samples_split': range(2, 10)\n",
    "}\n",
    "grid_model = GridSearchCV(pipe_model, param_grid=hyper_list,\n",
    "                          scoring=scoring,\n",
    "                          n_jobs = -1,\n",
    "                          cv = 5)"
   ]
  },
  {
   "cell_type": "code",
   "execution_count": 33,
   "id": "43ad4d5e-40e2-49ba-96c0-faf3fbc9b888",
   "metadata": {
    "tags": []
   },
   "outputs": [
    {
     "name": "stdout",
     "output_type": "stream",
     "text": [
      "Duration: 0:00:18.061677\n"
     ]
    }
   ],
   "source": [
    "from datetime import datetime\n",
    "\n",
    "start = datetime.now()  # start date and time\n",
    "\n",
    "grid_model.fit(features_train, target_train)\n",
    "\n",
    "end = datetime.now()  # end date and time - set to current date and time\n",
    "\n",
    "duration = end - start  # duration as a timedelta object\n",
    "\n",
    "print(\"Duration: {0}\".format(duration))"
   ]
  },
  {
   "cell_type": "code",
   "execution_count": 34,
   "id": "e8c7ab44-18cb-46fe-85d2-b11cca679ae4",
   "metadata": {
    "tags": []
   },
   "outputs": [],
   "source": [
    "best_model = grid_model.best_estimator_\n",
    "target_train_pred = best_model.predict(features_train)\n",
    "target_test_pred = best_model.predict(features_test)"
   ]
  },
  {
   "cell_type": "code",
   "execution_count": 35,
   "id": "adbe039d-9b52-493f-8caa-6bc993ebc033",
   "metadata": {
    "tags": []
   },
   "outputs": [
    {
     "name": "stdout",
     "output_type": "stream",
     "text": [
      "              precision    recall  f1-score   support\n",
      "\n",
      "           0       0.59      0.43      0.49       647\n",
      "           1       0.61      0.75      0.68       781\n",
      "\n",
      "    accuracy                           0.61      1428\n",
      "   macro avg       0.60      0.59      0.59      1428\n",
      "weighted avg       0.60      0.61      0.59      1428\n",
      "\n",
      "              precision    recall  f1-score   support\n",
      "\n",
      "           0       0.50      0.40      0.44       260\n",
      "           1       0.62      0.71      0.66       353\n",
      "\n",
      "    accuracy                           0.58       613\n",
      "   macro avg       0.56      0.55      0.55       613\n",
      "weighted avg       0.57      0.58      0.57       613\n",
      "\n"
     ]
    }
   ],
   "source": [
    "print(classification_report(target_train, target_train_pred))\n",
    "print(classification_report(target_test, target_test_pred))"
   ]
  },
  {
   "cell_type": "code",
   "execution_count": 36,
   "id": "5fbceb48-87f2-4a28-bd05-edf9f800385f",
   "metadata": {
    "tags": []
   },
   "outputs": [],
   "source": [
    "col_name = features_train.columns"
   ]
  },
  {
   "cell_type": "code",
   "execution_count": 38,
   "id": "b7fe15fa-a16f-4b8f-b43d-7e420cc60760",
   "metadata": {
    "tags": []
   },
   "outputs": [
    {
     "data": {
      "text/html": [
       "<div>\n",
       "<style scoped>\n",
       "    .dataframe tbody tr th:only-of-type {\n",
       "        vertical-align: middle;\n",
       "    }\n",
       "\n",
       "    .dataframe tbody tr th {\n",
       "        vertical-align: top;\n",
       "    }\n",
       "\n",
       "    .dataframe thead th {\n",
       "        text-align: right;\n",
       "    }\n",
       "</style>\n",
       "<table border=\"1\" class=\"dataframe\">\n",
       "  <thead>\n",
       "    <tr style=\"text-align: right;\">\n",
       "      <th></th>\n",
       "      <th>Feature</th>\n",
       "      <th>Importance</th>\n",
       "    </tr>\n",
       "  </thead>\n",
       "  <tbody>\n",
       "    <tr>\n",
       "      <th>0</th>\n",
       "      <td>연령</td>\n",
       "      <td>0.393540</td>\n",
       "    </tr>\n",
       "    <tr>\n",
       "      <th>1</th>\n",
       "      <td>통증기간(월)</td>\n",
       "      <td>0.336406</td>\n",
       "    </tr>\n",
       "    <tr>\n",
       "      <th>3</th>\n",
       "      <td>입원기간</td>\n",
       "      <td>0.155385</td>\n",
       "    </tr>\n",
       "    <tr>\n",
       "      <th>2</th>\n",
       "      <td>헤모글로빈수치</td>\n",
       "      <td>0.114669</td>\n",
       "    </tr>\n",
       "  </tbody>\n",
       "</table>\n",
       "</div>"
      ],
      "text/plain": [
       "   Feature  Importance\n",
       "0       연령    0.393540\n",
       "1  통증기간(월)    0.336406\n",
       "3     입원기간    0.155385\n",
       "2  헤모글로빈수치    0.114669"
      ]
     },
     "execution_count": 38,
     "metadata": {},
     "output_type": "execute_result"
    }
   ],
   "source": [
    "# df_importance = pd.DataFrame()\n",
    "# df_importance [ 'Feature']= col_name\n",
    "# df_importance ['Importance']= best_model['model'].feature_importances_\n",
    "# df_importance.sort_values(by='Importance',ascending=False).head(5)\n",
    "df_importance = pd.DataFrame()\n",
    "df_importance['Feature'] = col_name\n",
    "df_importance['Importance'] = best_model.feature_importances_\n",
    "df_importance.sort_values(by='Importance', ascending=False).head(5)"
   ]
  },
  {
   "cell_type": "code",
   "execution_count": 39,
   "id": "fe35c25a-9fbb-45fe-a5a4-c0a22fa9115c",
   "metadata": {},
   "outputs": [
    {
     "name": "stdout",
     "output_type": "stream",
     "text": [
      "(1428, 4)\n",
      "(1428,)\n",
      "(613, 4)\n",
      "(613,)\n"
     ]
    }
   ],
   "source": [
    "features_train, features_test, target_train, target_test = train_test_split(features_over_resample, target_over_resample\n",
    "                                                                            , test_size = 0.3, random_state= 1234)\n",
    "print(features_train.shape)\n",
    "print(target_train.shape)\n",
    "print(features_test .shape)\n",
    "print(target_test.shape)"
   ]
  },
  {
   "cell_type": "code",
   "execution_count": 51,
   "id": "4c4ae384-58be-4956-ac1c-2693041e9f2f",
   "metadata": {
    "tags": []
   },
   "outputs": [
    {
     "data": {
      "text/plain": [
       "Counter({0: 760, 1: 800})"
      ]
     },
     "execution_count": 51,
     "metadata": {},
     "output_type": "execute_result"
    }
   ],
   "source": [
    "# Under Sampling\n",
    "from imblearn.under_sampling import NearMiss\n",
    "resample = NearMiss(sampling_strategy=0.95)\n",
    "features_under_resample, target_under_resample = resample.fit_resample(features, target)\n",
    "\n",
    "# resampling 하기 후\n",
    "Counter(target_under_resample)"
   ]
  },
  {
   "cell_type": "code",
   "execution_count": 52,
   "id": "1c8e5d26-4f98-4e5f-bccb-068af84ca59f",
   "metadata": {
    "tags": []
   },
   "outputs": [],
   "source": [
    "# pipe_list = [('scaler',MinMaxScaler()),('model',DecisionTreeClassifier())]\n",
    "# pipe_model = Pipeline(pipe_list)\n",
    "pipe_model =  DecisionTreeClassifier(max_depth=5, min_samples_leaf=2, criterion='gini', class_weight=None, min_samples_split=2)"
   ]
  },
  {
   "cell_type": "code",
   "execution_count": 53,
   "id": "9752d94f-618e-41bc-b930-1bb0709db887",
   "metadata": {
    "tags": []
   },
   "outputs": [],
   "source": [
    "from sklearn.metrics import make_scorer, f1_score\n",
    "scoring = make_scorer(f1_score)\n",
    "hyper_list = {\n",
    "    'max_depth': range(2, 10),\n",
    "    'min_samples_leaf': range(2, 10),\n",
    "    'criterion': ['gini', 'entropy'],\n",
    "    'class_weight': [None, 'balanced'],\n",
    "    'min_samples_split': range(2, 10)\n",
    "}\n",
    "grid_model = GridSearchCV(pipe_model, param_grid=hyper_list,\n",
    "                          scoring=scoring,\n",
    "                          n_jobs = -1,\n",
    "                          cv = 5)"
   ]
  },
  {
   "cell_type": "code",
   "execution_count": 54,
   "id": "4ccf8cc2-d985-418a-8cd9-d5222541b657",
   "metadata": {
    "tags": []
   },
   "outputs": [
    {
     "name": "stdout",
     "output_type": "stream",
     "text": [
      "Duration: 0:00:14.419423\n"
     ]
    }
   ],
   "source": [
    "from datetime import datetime\n",
    "\n",
    "start = datetime.now()  # start date and time\n",
    "\n",
    "grid_model.fit(features_train, target_train)\n",
    "\n",
    "end = datetime.now()  # end date and time - set to current date and time\n",
    "\n",
    "duration = end - start  # duration as a timedelta object\n",
    "\n",
    "print(\"Duration: {0}\".format(duration))"
   ]
  },
  {
   "cell_type": "code",
   "execution_count": 55,
   "id": "ef11928b-95b8-40f3-91a6-4561cfe5aab6",
   "metadata": {
    "tags": []
   },
   "outputs": [],
   "source": [
    "best_model = grid_model.best_estimator_\n",
    "target_train_pred = best_model.predict(features_train)\n",
    "target_test_pred = best_model.predict(features_test)"
   ]
  },
  {
   "cell_type": "code",
   "execution_count": 56,
   "id": "d05f2338-394e-4e57-99d5-3c6c85de3da8",
   "metadata": {
    "tags": []
   },
   "outputs": [
    {
     "name": "stdout",
     "output_type": "stream",
     "text": [
      "              precision    recall  f1-score   support\n",
      "\n",
      "           0       0.59      0.43      0.49       647\n",
      "           1       0.61      0.75      0.68       781\n",
      "\n",
      "    accuracy                           0.61      1428\n",
      "   macro avg       0.60      0.59      0.59      1428\n",
      "weighted avg       0.60      0.61      0.59      1428\n",
      "\n",
      "              precision    recall  f1-score   support\n",
      "\n",
      "           0       0.50      0.40      0.44       260\n",
      "           1       0.62      0.71      0.66       353\n",
      "\n",
      "    accuracy                           0.58       613\n",
      "   macro avg       0.56      0.55      0.55       613\n",
      "weighted avg       0.57      0.58      0.57       613\n",
      "\n"
     ]
    }
   ],
   "source": [
    "print(classification_report(target_train, target_train_pred))\n",
    "print(classification_report(target_test, target_test_pred))"
   ]
  },
  {
   "cell_type": "code",
   "execution_count": 57,
   "id": "bad381d7-63c1-418e-8a91-9d35f91549a6",
   "metadata": {
    "tags": []
   },
   "outputs": [],
   "source": [
    "col_name = features_train.columns"
   ]
  },
  {
   "cell_type": "code",
   "execution_count": 58,
   "id": "43651bbd-4eab-4de9-a230-64d2b9236f22",
   "metadata": {
    "tags": []
   },
   "outputs": [
    {
     "data": {
      "text/html": [
       "<div>\n",
       "<style scoped>\n",
       "    .dataframe tbody tr th:only-of-type {\n",
       "        vertical-align: middle;\n",
       "    }\n",
       "\n",
       "    .dataframe tbody tr th {\n",
       "        vertical-align: top;\n",
       "    }\n",
       "\n",
       "    .dataframe thead th {\n",
       "        text-align: right;\n",
       "    }\n",
       "</style>\n",
       "<table border=\"1\" class=\"dataframe\">\n",
       "  <thead>\n",
       "    <tr style=\"text-align: right;\">\n",
       "      <th></th>\n",
       "      <th>Feature</th>\n",
       "      <th>Importance</th>\n",
       "    </tr>\n",
       "  </thead>\n",
       "  <tbody>\n",
       "    <tr>\n",
       "      <th>0</th>\n",
       "      <td>연령</td>\n",
       "      <td>0.393540</td>\n",
       "    </tr>\n",
       "    <tr>\n",
       "      <th>1</th>\n",
       "      <td>통증기간(월)</td>\n",
       "      <td>0.336406</td>\n",
       "    </tr>\n",
       "    <tr>\n",
       "      <th>3</th>\n",
       "      <td>입원기간</td>\n",
       "      <td>0.155385</td>\n",
       "    </tr>\n",
       "    <tr>\n",
       "      <th>2</th>\n",
       "      <td>헤모글로빈수치</td>\n",
       "      <td>0.114669</td>\n",
       "    </tr>\n",
       "  </tbody>\n",
       "</table>\n",
       "</div>"
      ],
      "text/plain": [
       "   Feature  Importance\n",
       "0       연령    0.393540\n",
       "1  통증기간(월)    0.336406\n",
       "3     입원기간    0.155385\n",
       "2  헤모글로빈수치    0.114669"
      ]
     },
     "execution_count": 58,
     "metadata": {},
     "output_type": "execute_result"
    }
   ],
   "source": [
    "# df_importance = pd.DataFrame()\n",
    "# df_importance [ 'Feature']= col_name\n",
    "# df_importance ['Importance']= best_model['model'].feature_importances_\n",
    "# df_importance.sort_values(by='Importance',ascending=False).head(5)\n",
    "df_importance = pd.DataFrame()\n",
    "df_importance['Feature'] = col_name\n",
    "df_importance['Importance'] = best_model.feature_importances_\n",
    "df_importance.sort_values(by='Importance', ascending=False).head(5)"
   ]
  },
  {
   "cell_type": "code",
   "execution_count": 59,
   "id": "3b383a3c-7b77-4fbf-b4f7-2fb23987299f",
   "metadata": {
    "tags": []
   },
   "outputs": [
    {
     "name": "stdout",
     "output_type": "stream",
     "text": [
      "(1428, 4)\n",
      "(1428,)\n",
      "(613, 4)\n",
      "(613,)\n"
     ]
    }
   ],
   "source": [
    "features_train, features_test, target_train, target_test = train_test_split(features_over_resample, target_over_resample\n",
    "                                                                            , test_size = 0.3, random_state= 1234)\n",
    "print(features_train.shape)\n",
    "print(target_train.shape)\n",
    "print(features_test .shape)\n",
    "print(target_test.shape)"
   ]
  },
  {
   "cell_type": "code",
   "execution_count": null,
   "id": "5dcae56c-f373-458a-afa1-987441ad9fde",
   "metadata": {},
   "outputs": [],
   "source": []
  },
  {
   "cell_type": "code",
   "execution_count": null,
   "id": "4c8a371c-b79d-476b-82fa-0204248cc084",
   "metadata": {
    "tags": []
   },
   "outputs": [],
   "source": [
    "# 서비스 배포\n",
    "import pickle  # 메모리 인스턴스 클래스를 이진파일로 저장"
   ]
  },
  {
   "cell_type": "code",
   "execution_count": null,
   "id": "aae83ad3-26f9-43f2-821a-afcbb50ca027",
   "metadata": {
    "tags": []
   },
   "outputs": [],
   "source": [
    "with open('../datasets/quest_pickle.pkl', 'wb') as regression_file :\n",
    "    pickle.dump(obj=model, file=regression_file)\n",
    "    pass"
   ]
  },
  {
   "cell_type": "code",
   "execution_count": null,
   "id": "f3e04357-0e37-4cc5-9e5d-0cebc903b026",
   "metadata": {},
   "outputs": [],
   "source": []
  }
 ],
 "metadata": {
  "kernelspec": {
   "display_name": "Python 3 (ipykernel)",
   "language": "python",
   "name": "python3"
  },
  "language_info": {
   "codemirror_mode": {
    "name": "ipython",
    "version": 3
   },
   "file_extension": ".py",
   "mimetype": "text/x-python",
   "name": "python",
   "nbconvert_exporter": "python",
   "pygments_lexer": "ipython3",
   "version": "3.11.3"
  }
 },
 "nbformat": 4,
 "nbformat_minor": 5
}
